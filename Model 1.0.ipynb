{
 "cells": [
  {
   "cell_type": "markdown",
   "metadata": {},
   "source": [
    "## Model 1.0"
   ]
  },
  {
   "cell_type": "code",
   "execution_count": 1,
   "metadata": {},
   "outputs": [],
   "source": [
    "#import libs\n",
    "import numpy as np\n",
    "import pandas as pd\n",
    "import matplotlib.pyplot as plt\n",
    "import seaborn as sns\n",
    "sns.set(rc={'figure.figsize':(14,6)})"
   ]
  },
  {
   "cell_type": "code",
   "execution_count": 2,
   "metadata": {},
   "outputs": [],
   "source": [
    "from sklearn.model_selection import train_test_split\n",
    "from sklearn.tree import DecisionTreeClassifier\n",
    "from sklearn. ensemble import RandomForestClassifier, BaggingClassifier, AdaBoostClassifier, VotingClassifier\n",
    "from sklearn.linear_model import LogisticRegression\n",
    "from sklearn.svm import SVC"
   ]
  },
  {
   "cell_type": "code",
   "execution_count": 122,
   "metadata": {},
   "outputs": [],
   "source": [
    "train= pd.read_csv('train_modified.csv')\n",
    "test= pd.read_csv('test_modified.csv')"
   ]
  },
  {
   "cell_type": "code",
   "execution_count": 121,
   "metadata": {},
   "outputs": [],
   "source": [
    "train['Interest_Rate'] = train['Interest_Rate'].astype(int)\n",
    "x_train = train.drop(labels = ['Unnamed: 0','Loan_ID','Interest_Rate'\n",
    "                               ,'Gender_Female','Gender_Male'],axis = 1) \n",
    "y_train = train['Interest_Rate']"
   ]
  },
  {
   "cell_type": "code",
   "execution_count": 86,
   "metadata": {},
   "outputs": [
    {
     "data": {
      "text/plain": [
       "Index(['Loan_Amount_Requested', 'Annual_Income', 'Debt_To_Income',\n",
       "       'Inquiries_Last_6Mo', 'Months_Since_Deliquency', 'Number_Open_Accounts',\n",
       "       'Total_Accounts', 'Length_Employed_E', 'Length_Employed_L',\n",
       "       'Length_Employed_M', 'Length_Employed_exp_NA', 'Home_Owner_Mortgage',\n",
       "       'Home_Owner_Other', 'Home_Owner_Own', 'Home_Owner_Rent',\n",
       "       'Income_Verified_VERIFIED - income', 'Income_Verified_not verified',\n",
       "       'Purpose_Of_Loan_car', 'Purpose_Of_Loan_credit_card',\n",
       "       'Purpose_Of_Loan_debt_consolidation', 'Purpose_Of_Loan_educational',\n",
       "       'Purpose_Of_Loan_home_improvement', 'Purpose_Of_Loan_house',\n",
       "       'Purpose_Of_Loan_major_purchase', 'Purpose_Of_Loan_medical',\n",
       "       'Purpose_Of_Loan_moving', 'Purpose_Of_Loan_other',\n",
       "       'Purpose_Of_Loan_renewable_energy', 'Purpose_Of_Loan_small_business',\n",
       "       'Purpose_Of_Loan_vacation', 'Purpose_Of_Loan_wedding'],\n",
       "      dtype='object')"
      ]
     },
     "execution_count": 86,
     "metadata": {},
     "output_type": "execute_result"
    }
   ],
   "source": [
    "x_train.columns"
   ]
  },
  {
   "cell_type": "markdown",
   "metadata": {},
   "source": [
    "### Decision Tree Classifier"
   ]
  },
  {
   "cell_type": "code",
   "execution_count": 87,
   "metadata": {},
   "outputs": [
    {
     "data": {
      "text/plain": [
       "0    1\n",
       "1    3\n",
       "2    3\n",
       "3    3\n",
       "4    1\n",
       "Name: Interest_Rate, dtype: int32"
      ]
     },
     "execution_count": 87,
     "metadata": {},
     "output_type": "execute_result"
    }
   ],
   "source": [
    "y_train.head()"
   ]
  },
  {
   "cell_type": "code",
   "execution_count": 123,
   "metadata": {},
   "outputs": [],
   "source": [
    "# Split the train and the validation set for the fitting\n",
    "X_train, X_val, Y_train, Y_val = train_test_split(x_train, y_train, test_size = 0.1, random_state=2)"
   ]
  },
  {
   "cell_type": "code",
   "execution_count": null,
   "metadata": {},
   "outputs": [],
   "source": []
  },
  {
   "cell_type": "code",
   "execution_count": 89,
   "metadata": {},
   "outputs": [
    {
     "data": {
      "text/plain": [
       "DecisionTreeClassifier(ccp_alpha=0.0, class_weight=None, criterion='gini',\n",
       "                       max_depth=None, max_features=None, max_leaf_nodes=None,\n",
       "                       min_impurity_decrease=0.0, min_impurity_split=None,\n",
       "                       min_samples_leaf=1, min_samples_split=2,\n",
       "                       min_weight_fraction_leaf=0.0, presort='deprecated',\n",
       "                       random_state=None, splitter='best')"
      ]
     },
     "execution_count": 89,
     "metadata": {},
     "output_type": "execute_result"
    }
   ],
   "source": [
    "#descision tree\n",
    "dt = DecisionTreeClassifier()\n",
    "dt.fit(X_train,Y_train)"
   ]
  },
  {
   "cell_type": "code",
   "execution_count": 90,
   "metadata": {},
   "outputs": [
    {
     "data": {
      "text/plain": [
       "0.43113626681273204"
      ]
     },
     "execution_count": 90,
     "metadata": {},
     "output_type": "execute_result"
    }
   ],
   "source": [
    "dt.score(X_val,Y_val)"
   ]
  },
  {
   "cell_type": "code",
   "execution_count": 91,
   "metadata": {},
   "outputs": [
    {
     "data": {
      "text/plain": [
       "1.0"
      ]
     },
     "execution_count": 91,
     "metadata": {},
     "output_type": "execute_result"
    }
   ],
   "source": [
    "dt.score(X_train,Y_train)"
   ]
  },
  {
   "cell_type": "markdown",
   "metadata": {},
   "source": [
    "### Random Forrest Classifier"
   ]
  },
  {
   "cell_type": "code",
   "execution_count": 92,
   "metadata": {},
   "outputs": [
    {
     "data": {
      "text/plain": [
       "RandomForestClassifier(bootstrap=True, ccp_alpha=0.0, class_weight=None,\n",
       "                       criterion='gini', max_depth=None, max_features='auto',\n",
       "                       max_leaf_nodes=None, max_samples=None,\n",
       "                       min_impurity_decrease=0.0, min_impurity_split=None,\n",
       "                       min_samples_leaf=1, min_samples_split=2,\n",
       "                       min_weight_fraction_leaf=0.0, n_estimators=40,\n",
       "                       n_jobs=None, oob_score=False, random_state=None,\n",
       "                       verbose=0, warm_start=False)"
      ]
     },
     "execution_count": 92,
     "metadata": {},
     "output_type": "execute_result"
    }
   ],
   "source": [
    "#Random Forest - Ensemble of Descision Trees\n",
    "\n",
    "rf = RandomForestClassifier(n_estimators=40)\n",
    "rf.fit(X_train,Y_train)"
   ]
  },
  {
   "cell_type": "code",
   "execution_count": 93,
   "metadata": {},
   "outputs": [
    {
     "data": {
      "text/plain": [
       "0.5068468139492422"
      ]
     },
     "execution_count": 93,
     "metadata": {},
     "output_type": "execute_result"
    }
   ],
   "source": [
    "rf.score(X_val,Y_val)"
   ]
  },
  {
   "cell_type": "code",
   "execution_count": 94,
   "metadata": {},
   "outputs": [
    {
     "data": {
      "text/plain": [
       "Index(['Unnamed: 0', 'Loan_ID', 'Loan_Amount_Requested', 'Annual_Income',\n",
       "       'Debt_To_Income', 'Inquiries_Last_6Mo', 'Months_Since_Deliquency',\n",
       "       'Number_Open_Accounts', 'Total_Accounts', 'Length_Employed_E',\n",
       "       'Length_Employed_L', 'Length_Employed_M', 'Length_Employed_exp_NA',\n",
       "       'Home_Owner_Mortgage', 'Home_Owner_Other', 'Home_Owner_Own',\n",
       "       'Home_Owner_Rent', 'Income_Verified_VERIFIED - income',\n",
       "       'Income_Verified_not verified', 'Purpose_Of_Loan_car',\n",
       "       'Purpose_Of_Loan_credit_card', 'Purpose_Of_Loan_debt_consolidation',\n",
       "       'Purpose_Of_Loan_educational', 'Purpose_Of_Loan_home_improvement',\n",
       "       'Purpose_Of_Loan_house', 'Purpose_Of_Loan_major_purchase',\n",
       "       'Purpose_Of_Loan_medical', 'Purpose_Of_Loan_moving',\n",
       "       'Purpose_Of_Loan_other', 'Purpose_Of_Loan_renewable_energy',\n",
       "       'Purpose_Of_Loan_small_business', 'Purpose_Of_Loan_vacation',\n",
       "       'Purpose_Of_Loan_wedding', 'Gender_Female', 'Gender_Male'],\n",
       "      dtype='object')"
      ]
     },
     "execution_count": 94,
     "metadata": {},
     "output_type": "execute_result"
    }
   ],
   "source": [
    "test.columns"
   ]
  },
  {
   "cell_type": "code",
   "execution_count": 95,
   "metadata": {},
   "outputs": [],
   "source": [
    "x_test= test.drop(labels=['Unnamed: 0','Loan_ID','Gender_Female', 'Gender_Male'],axis=1)\n",
    "pred =rf.predict(x_test)"
   ]
  },
  {
   "cell_type": "code",
   "execution_count": 96,
   "metadata": {},
   "outputs": [
    {
     "data": {
      "text/plain": [
       "array([3, 1, 2, ..., 2, 3, 2])"
      ]
     },
     "execution_count": 96,
     "metadata": {},
     "output_type": "execute_result"
    }
   ],
   "source": [
    "pred"
   ]
  },
  {
   "cell_type": "code",
   "execution_count": 97,
   "metadata": {},
   "outputs": [],
   "source": [
    "sub = pd.DataFrame({'Loan_ID': test['Loan_ID'], 'Interest_Rate': pred})"
   ]
  },
  {
   "cell_type": "code",
   "execution_count": 98,
   "metadata": {},
   "outputs": [
    {
     "data": {
      "text/html": [
       "<div>\n",
       "<style scoped>\n",
       "    .dataframe tbody tr th:only-of-type {\n",
       "        vertical-align: middle;\n",
       "    }\n",
       "\n",
       "    .dataframe tbody tr th {\n",
       "        vertical-align: top;\n",
       "    }\n",
       "\n",
       "    .dataframe thead th {\n",
       "        text-align: right;\n",
       "    }\n",
       "</style>\n",
       "<table border=\"1\" class=\"dataframe\">\n",
       "  <thead>\n",
       "    <tr style=\"text-align: right;\">\n",
       "      <th></th>\n",
       "      <th>Loan_ID</th>\n",
       "      <th>Interest_Rate</th>\n",
       "    </tr>\n",
       "  </thead>\n",
       "  <tbody>\n",
       "    <tr>\n",
       "      <th>0</th>\n",
       "      <td>10164310.0</td>\n",
       "      <td>3</td>\n",
       "    </tr>\n",
       "    <tr>\n",
       "      <th>1</th>\n",
       "      <td>10164311.0</td>\n",
       "      <td>1</td>\n",
       "    </tr>\n",
       "    <tr>\n",
       "      <th>2</th>\n",
       "      <td>10164312.0</td>\n",
       "      <td>2</td>\n",
       "    </tr>\n",
       "    <tr>\n",
       "      <th>3</th>\n",
       "      <td>10164313.0</td>\n",
       "      <td>2</td>\n",
       "    </tr>\n",
       "    <tr>\n",
       "      <th>4</th>\n",
       "      <td>10164314.0</td>\n",
       "      <td>2</td>\n",
       "    </tr>\n",
       "    <tr>\n",
       "      <th>...</th>\n",
       "      <td>...</td>\n",
       "      <td>...</td>\n",
       "    </tr>\n",
       "    <tr>\n",
       "      <th>109536</th>\n",
       "      <td>10273846.0</td>\n",
       "      <td>3</td>\n",
       "    </tr>\n",
       "    <tr>\n",
       "      <th>109537</th>\n",
       "      <td>10273847.0</td>\n",
       "      <td>2</td>\n",
       "    </tr>\n",
       "    <tr>\n",
       "      <th>109538</th>\n",
       "      <td>10273848.0</td>\n",
       "      <td>2</td>\n",
       "    </tr>\n",
       "    <tr>\n",
       "      <th>109539</th>\n",
       "      <td>10273849.0</td>\n",
       "      <td>3</td>\n",
       "    </tr>\n",
       "    <tr>\n",
       "      <th>109540</th>\n",
       "      <td>10273850.0</td>\n",
       "      <td>2</td>\n",
       "    </tr>\n",
       "  </tbody>\n",
       "</table>\n",
       "<p>109541 rows × 2 columns</p>\n",
       "</div>"
      ],
      "text/plain": [
       "           Loan_ID  Interest_Rate\n",
       "0       10164310.0              3\n",
       "1       10164311.0              1\n",
       "2       10164312.0              2\n",
       "3       10164313.0              2\n",
       "4       10164314.0              2\n",
       "...            ...            ...\n",
       "109536  10273846.0              3\n",
       "109537  10273847.0              2\n",
       "109538  10273848.0              2\n",
       "109539  10273849.0              3\n",
       "109540  10273850.0              2\n",
       "\n",
       "[109541 rows x 2 columns]"
      ]
     },
     "execution_count": 98,
     "metadata": {},
     "output_type": "execute_result"
    }
   ],
   "source": [
    "sub"
   ]
  },
  {
   "cell_type": "code",
   "execution_count": 101,
   "metadata": {},
   "outputs": [
    {
     "data": {
      "text/plain": [
       "Index(['Loan_ID', 'Interest_Rate'], dtype='object')"
      ]
     },
     "execution_count": 101,
     "metadata": {},
     "output_type": "execute_result"
    }
   ],
   "source": [
    "sub.columns"
   ]
  },
  {
   "cell_type": "code",
   "execution_count": 102,
   "metadata": {},
   "outputs": [],
   "source": [
    "#sub.to_csv('submission_1.csv',index=False)"
   ]
  },
  {
   "cell_type": "markdown",
   "metadata": {},
   "source": [
    "### Bagging of Decision Tree"
   ]
  },
  {
   "cell_type": "code",
   "execution_count": 103,
   "metadata": {},
   "outputs": [
    {
     "data": {
      "text/plain": [
       "BaggingClassifier(base_estimator=DecisionTreeClassifier(ccp_alpha=0.0,\n",
       "                                                        class_weight=None,\n",
       "                                                        criterion='gini',\n",
       "                                                        max_depth=None,\n",
       "                                                        max_features=None,\n",
       "                                                        max_leaf_nodes=None,\n",
       "                                                        min_impurity_decrease=0.0,\n",
       "                                                        min_impurity_split=None,\n",
       "                                                        min_samples_leaf=1,\n",
       "                                                        min_samples_split=2,\n",
       "                                                        min_weight_fraction_leaf=0.0,\n",
       "                                                        presort='deprecated',\n",
       "                                                        random_state=None,\n",
       "                                                        splitter='best'),\n",
       "                  bootstrap=True, bootstrap_features=False, max_features=1.0,\n",
       "                  max_samples=0.5, n_estimators=25, n_jobs=None,\n",
       "                  oob_score=False, random_state=None, verbose=0,\n",
       "                  warm_start=False)"
      ]
     },
     "execution_count": 103,
     "metadata": {},
     "output_type": "execute_result"
    }
   ],
   "source": [
    "#Bagging \n",
    "\n",
    "bg = BaggingClassifier(DecisionTreeClassifier(), max_samples= 0.5, max_features = 1.0, n_estimators = 25)\n",
    "bg.fit(X_train,Y_train)"
   ]
  },
  {
   "cell_type": "code",
   "execution_count": 104,
   "metadata": {},
   "outputs": [
    {
     "data": {
      "text/plain": [
       "0.5048384151907979"
      ]
     },
     "execution_count": 104,
     "metadata": {},
     "output_type": "execute_result"
    }
   ],
   "source": [
    "bg.score(X_val,Y_val)"
   ]
  },
  {
   "cell_type": "markdown",
   "metadata": {},
   "source": [
    "### Adaboost"
   ]
  },
  {
   "cell_type": "code",
   "execution_count": 51,
   "metadata": {},
   "outputs": [
    {
     "data": {
      "text/plain": [
       "AdaBoostClassifier(algorithm='SAMME.R',\n",
       "                   base_estimator=DecisionTreeClassifier(ccp_alpha=0.0,\n",
       "                                                         class_weight=None,\n",
       "                                                         criterion='gini',\n",
       "                                                         max_depth=None,\n",
       "                                                         max_features=None,\n",
       "                                                         max_leaf_nodes=None,\n",
       "                                                         min_impurity_decrease=0.0,\n",
       "                                                         min_impurity_split=None,\n",
       "                                                         min_samples_leaf=1,\n",
       "                                                         min_samples_split=2,\n",
       "                                                         min_weight_fraction_leaf=0.0,\n",
       "                                                         presort='deprecated',\n",
       "                                                         random_state=None,\n",
       "                                                         splitter='best'),\n",
       "                   learning_rate=1, n_estimators=10, random_state=None)"
      ]
     },
     "execution_count": 51,
     "metadata": {},
     "output_type": "execute_result"
    }
   ],
   "source": [
    "#Boosting - Ada Boost\n",
    "\n",
    "adb = AdaBoostClassifier(DecisionTreeClassifier(),n_estimators = 10, learning_rate = 1)\n",
    "adb.fit(X_train,Y_train)"
   ]
  },
  {
   "cell_type": "code",
   "execution_count": 52,
   "metadata": {},
   "outputs": [
    {
     "data": {
      "text/plain": [
       "0.4347879009189946"
      ]
     },
     "execution_count": 52,
     "metadata": {},
     "output_type": "execute_result"
    }
   ],
   "source": [
    "adb.score(X_val,Y_val)"
   ]
  },
  {
   "cell_type": "markdown",
   "metadata": {},
   "source": [
    "### XGBoost"
   ]
  },
  {
   "cell_type": "code",
   "execution_count": 124,
   "metadata": {},
   "outputs": [],
   "source": [
    "Y_train.replace({1:0,2:1,3:2},inplace=True)\n",
    "Y_val.replace({1:0,2:1,3:2},inplace=True)"
   ]
  },
  {
   "cell_type": "code",
   "execution_count": 125,
   "metadata": {},
   "outputs": [],
   "source": [
    "Y_train= pd.to_numeric(Y_train)\n",
    "Y_val= pd.to_numeric(Y_val)"
   ]
  },
  {
   "cell_type": "code",
   "execution_count": 126,
   "metadata": {},
   "outputs": [
    {
     "data": {
      "text/plain": [
       "array([0, 1, 2], dtype=int64)"
      ]
     },
     "execution_count": 126,
     "metadata": {},
     "output_type": "execute_result"
    }
   ],
   "source": [
    "np.unique(Y_train)"
   ]
  },
  {
   "cell_type": "code",
   "execution_count": 136,
   "metadata": {},
   "outputs": [],
   "source": [
    "import xgboost as xgb\n",
    "\n",
    "D_train = xgb.DMatrix(X_train, label=Y_train)\n",
    "D_test = xgb.DMatrix(X_val, label=Y_val)\n",
    "\n",
    "param = {\n",
    "    'eta': 0.1, \n",
    "    'max_depth': 6,  \n",
    "    'subsample': 0.8,\n",
    "    'colsample_bytree': 0.75,\n",
    "    'objective': 'multi:softprob',  \n",
    "    'num_class': 3} \n",
    "\n",
    "steps = 1000  # The number of training iterations\n",
    "model = xgb.train(param, D_train, steps)"
   ]
  },
  {
   "cell_type": "code",
   "execution_count": 137,
   "metadata": {},
   "outputs": [
    {
     "name": "stdout",
     "output_type": "stream",
     "text": [
      "Precision = 0.5310321235036699\n",
      "Recall = 0.494863794196611\n",
      "Accuracy = 0.5350861177043393\n"
     ]
    }
   ],
   "source": [
    "import numpy as np\n",
    "from sklearn.metrics import precision_score, recall_score, accuracy_score\n",
    "\n",
    "preds = model.predict(D_test)\n",
    "best_preds = np.asarray([np.argmax(line) for line in preds])\n",
    "\n",
    "print(\"Precision = {}\".format(precision_score(Y_val, best_preds, average='macro')))\n",
    "print(\"Recall = {}\".format(recall_score(Y_val, best_preds, average='macro')))\n",
    "print(\"Accuracy = {}\".format(accuracy_score(Y_val, best_preds)))"
   ]
  },
  {
   "cell_type": "code",
   "execution_count": 129,
   "metadata": {},
   "outputs": [],
   "source": [
    "x_test= test.drop(labels=['Unnamed: 0','Loan_ID','Gender_Female', 'Gender_Male'],axis=1)\n",
    "D_test = xgb.DMatrix(x_test)"
   ]
  },
  {
   "cell_type": "code",
   "execution_count": 130,
   "metadata": {},
   "outputs": [],
   "source": [
    "preds = model.predict(D_test)\n",
    "best_preds = np.asarray([np.argmax(line) for line in preds])"
   ]
  },
  {
   "cell_type": "code",
   "execution_count": 131,
   "metadata": {},
   "outputs": [],
   "source": [
    "sub = pd.DataFrame({'Loan_ID': test['Loan_ID'], 'Interest_Rate': best_preds})"
   ]
  },
  {
   "cell_type": "code",
   "execution_count": 132,
   "metadata": {},
   "outputs": [
    {
     "data": {
      "text/html": [
       "<div>\n",
       "<style scoped>\n",
       "    .dataframe tbody tr th:only-of-type {\n",
       "        vertical-align: middle;\n",
       "    }\n",
       "\n",
       "    .dataframe tbody tr th {\n",
       "        vertical-align: top;\n",
       "    }\n",
       "\n",
       "    .dataframe thead th {\n",
       "        text-align: right;\n",
       "    }\n",
       "</style>\n",
       "<table border=\"1\" class=\"dataframe\">\n",
       "  <thead>\n",
       "    <tr style=\"text-align: right;\">\n",
       "      <th></th>\n",
       "      <th>Loan_ID</th>\n",
       "      <th>Interest_Rate</th>\n",
       "    </tr>\n",
       "  </thead>\n",
       "  <tbody>\n",
       "    <tr>\n",
       "      <th>0</th>\n",
       "      <td>10164310.0</td>\n",
       "      <td>2</td>\n",
       "    </tr>\n",
       "    <tr>\n",
       "      <th>1</th>\n",
       "      <td>10164311.0</td>\n",
       "      <td>0</td>\n",
       "    </tr>\n",
       "    <tr>\n",
       "      <th>2</th>\n",
       "      <td>10164312.0</td>\n",
       "      <td>2</td>\n",
       "    </tr>\n",
       "    <tr>\n",
       "      <th>3</th>\n",
       "      <td>10164313.0</td>\n",
       "      <td>1</td>\n",
       "    </tr>\n",
       "    <tr>\n",
       "      <th>4</th>\n",
       "      <td>10164314.0</td>\n",
       "      <td>1</td>\n",
       "    </tr>\n",
       "    <tr>\n",
       "      <th>...</th>\n",
       "      <td>...</td>\n",
       "      <td>...</td>\n",
       "    </tr>\n",
       "    <tr>\n",
       "      <th>109536</th>\n",
       "      <td>10273846.0</td>\n",
       "      <td>2</td>\n",
       "    </tr>\n",
       "    <tr>\n",
       "      <th>109537</th>\n",
       "      <td>10273847.0</td>\n",
       "      <td>1</td>\n",
       "    </tr>\n",
       "    <tr>\n",
       "      <th>109538</th>\n",
       "      <td>10273848.0</td>\n",
       "      <td>1</td>\n",
       "    </tr>\n",
       "    <tr>\n",
       "      <th>109539</th>\n",
       "      <td>10273849.0</td>\n",
       "      <td>2</td>\n",
       "    </tr>\n",
       "    <tr>\n",
       "      <th>109540</th>\n",
       "      <td>10273850.0</td>\n",
       "      <td>2</td>\n",
       "    </tr>\n",
       "  </tbody>\n",
       "</table>\n",
       "<p>109541 rows × 2 columns</p>\n",
       "</div>"
      ],
      "text/plain": [
       "           Loan_ID  Interest_Rate\n",
       "0       10164310.0              2\n",
       "1       10164311.0              0\n",
       "2       10164312.0              2\n",
       "3       10164313.0              1\n",
       "4       10164314.0              1\n",
       "...            ...            ...\n",
       "109536  10273846.0              2\n",
       "109537  10273847.0              1\n",
       "109538  10273848.0              1\n",
       "109539  10273849.0              2\n",
       "109540  10273850.0              2\n",
       "\n",
       "[109541 rows x 2 columns]"
      ]
     },
     "execution_count": 132,
     "metadata": {},
     "output_type": "execute_result"
    }
   ],
   "source": [
    "sub"
   ]
  },
  {
   "cell_type": "code",
   "execution_count": 133,
   "metadata": {},
   "outputs": [],
   "source": [
    "sub['Loan_ID'] = sub['Loan_ID'].astype(int)\n",
    "sub.replace({0:1,1:2,2:3},inplace=True)"
   ]
  },
  {
   "cell_type": "code",
   "execution_count": 134,
   "metadata": {},
   "outputs": [
    {
     "data": {
      "text/html": [
       "<div>\n",
       "<style scoped>\n",
       "    .dataframe tbody tr th:only-of-type {\n",
       "        vertical-align: middle;\n",
       "    }\n",
       "\n",
       "    .dataframe tbody tr th {\n",
       "        vertical-align: top;\n",
       "    }\n",
       "\n",
       "    .dataframe thead th {\n",
       "        text-align: right;\n",
       "    }\n",
       "</style>\n",
       "<table border=\"1\" class=\"dataframe\">\n",
       "  <thead>\n",
       "    <tr style=\"text-align: right;\">\n",
       "      <th></th>\n",
       "      <th>Loan_ID</th>\n",
       "      <th>Interest_Rate</th>\n",
       "    </tr>\n",
       "  </thead>\n",
       "  <tbody>\n",
       "    <tr>\n",
       "      <th>0</th>\n",
       "      <td>10164310</td>\n",
       "      <td>3</td>\n",
       "    </tr>\n",
       "    <tr>\n",
       "      <th>1</th>\n",
       "      <td>10164311</td>\n",
       "      <td>1</td>\n",
       "    </tr>\n",
       "    <tr>\n",
       "      <th>2</th>\n",
       "      <td>10164312</td>\n",
       "      <td>3</td>\n",
       "    </tr>\n",
       "    <tr>\n",
       "      <th>3</th>\n",
       "      <td>10164313</td>\n",
       "      <td>2</td>\n",
       "    </tr>\n",
       "    <tr>\n",
       "      <th>4</th>\n",
       "      <td>10164314</td>\n",
       "      <td>2</td>\n",
       "    </tr>\n",
       "    <tr>\n",
       "      <th>...</th>\n",
       "      <td>...</td>\n",
       "      <td>...</td>\n",
       "    </tr>\n",
       "    <tr>\n",
       "      <th>109536</th>\n",
       "      <td>10273846</td>\n",
       "      <td>3</td>\n",
       "    </tr>\n",
       "    <tr>\n",
       "      <th>109537</th>\n",
       "      <td>10273847</td>\n",
       "      <td>2</td>\n",
       "    </tr>\n",
       "    <tr>\n",
       "      <th>109538</th>\n",
       "      <td>10273848</td>\n",
       "      <td>2</td>\n",
       "    </tr>\n",
       "    <tr>\n",
       "      <th>109539</th>\n",
       "      <td>10273849</td>\n",
       "      <td>3</td>\n",
       "    </tr>\n",
       "    <tr>\n",
       "      <th>109540</th>\n",
       "      <td>10273850</td>\n",
       "      <td>3</td>\n",
       "    </tr>\n",
       "  </tbody>\n",
       "</table>\n",
       "<p>109541 rows × 2 columns</p>\n",
       "</div>"
      ],
      "text/plain": [
       "         Loan_ID  Interest_Rate\n",
       "0       10164310              3\n",
       "1       10164311              1\n",
       "2       10164312              3\n",
       "3       10164313              2\n",
       "4       10164314              2\n",
       "...          ...            ...\n",
       "109536  10273846              3\n",
       "109537  10273847              2\n",
       "109538  10273848              2\n",
       "109539  10273849              3\n",
       "109540  10273850              3\n",
       "\n",
       "[109541 rows x 2 columns]"
      ]
     },
     "execution_count": 134,
     "metadata": {},
     "output_type": "execute_result"
    }
   ],
   "source": [
    "sub"
   ]
  },
  {
   "cell_type": "code",
   "execution_count": 135,
   "metadata": {},
   "outputs": [],
   "source": [
    "sub.to_csv('submission_3.csv',index=False)"
   ]
  },
  {
   "cell_type": "code",
   "execution_count": null,
   "metadata": {},
   "outputs": [],
   "source": []
  },
  {
   "cell_type": "markdown",
   "metadata": {},
   "source": [
    "---"
   ]
  },
  {
   "cell_type": "markdown",
   "metadata": {},
   "source": [
    "## Exploring Classification Category-wise"
   ]
  },
  {
   "cell_type": "markdown",
   "metadata": {},
   "source": [
    "### XGBoost Categorywise"
   ]
  },
  {
   "cell_type": "code",
   "execution_count": null,
   "metadata": {},
   "outputs": [],
   "source": []
  },
  {
   "cell_type": "code",
   "execution_count": 116,
   "metadata": {},
   "outputs": [
    {
     "name": "stdout",
     "output_type": "stream",
     "text": [
      "Purpose_Of_Loan_car\n"
     ]
    },
    {
     "name": "stderr",
     "output_type": "stream",
     "text": [
      "E:\\Anaconda3\\lib\\site-packages\\pandas\\core\\generic.py:6746: SettingWithCopyWarning: \n",
      "A value is trying to be set on a copy of a slice from a DataFrame\n",
      "\n",
      "See the caveats in the documentation: https://pandas.pydata.org/pandas-docs/stable/user_guide/indexing.html#returning-a-view-versus-a-copy\n",
      "  self._update_inplace(new_data)\n"
     ]
    },
    {
     "name": "stdout",
     "output_type": "stream",
     "text": [
      "Purpose_Of_Loan_credit_card\n",
      "Purpose_Of_Loan_debt_consolidation\n",
      "Purpose_Of_Loan_educational\n",
      "Purpose_Of_Loan_home_improvement\n",
      "Purpose_Of_Loan_house\n",
      "Purpose_Of_Loan_major_purchase\n",
      "Purpose_Of_Loan_medical\n",
      "Purpose_Of_Loan_moving\n",
      "Purpose_Of_Loan_other\n",
      "Purpose_Of_Loan_renewable_energy\n",
      "Purpose_Of_Loan_small_business\n",
      "Purpose_Of_Loan_vacation\n",
      "Purpose_Of_Loan_wedding\n"
     ]
    }
   ],
   "source": [
    "frames=[]\n",
    "\n",
    "train['Interest_Rate'] = train['Interest_Rate'].astype(int)\n",
    "test['Loan_ID'] = test['Loan_ID'].astype(int)\n",
    "\n",
    "for i in range(0,14):\n",
    "    segment=dc[i]\n",
    "    print(segment)\n",
    "    x_t = train[train[dc[i]]==1.0]\n",
    "    x_train = x_t.drop(labels = ['Unnamed: 0','Loan_ID','Interest_Rate','Gender_Female',\n",
    "                                     'Gender_Male','Purpose_Of_Loan_car', 'Purpose_Of_Loan_credit_card',\n",
    "                                     'Purpose_Of_Loan_debt_consolidation', 'Purpose_Of_Loan_educational',\n",
    "                                     'Purpose_Of_Loan_home_improvement', 'Purpose_Of_Loan_house',\n",
    "                                     'Purpose_Of_Loan_major_purchase', 'Purpose_Of_Loan_medical',\n",
    "                                     'Purpose_Of_Loan_moving', 'Purpose_Of_Loan_other',\n",
    "                                     'Purpose_Of_Loan_renewable_energy', 'Purpose_Of_Loan_small_business',\n",
    "                                     'Purpose_Of_Loan_vacation', 'Purpose_Of_Loan_wedding'],axis = 1) \n",
    "    y_train = x_t['Interest_Rate']\n",
    "    #X_train, X_val, Y_train, Y_val = train_test_split(x_train, y_train, test_size = 0.1, random_state=2)\n",
    "    X_train, Y_train = x_train, y_train\n",
    "\n",
    "    Y_train.replace({1:0,2:1,3:2},inplace=True)\n",
    "    #Y_val.replace({1:0,2:1,3:2},inplace=True)\n",
    "    Y_train= pd.to_numeric(Y_train)\n",
    "    #Y_val= pd.to_numeric(Y_val)\n",
    "\n",
    "    D_train = xgb.DMatrix(X_train, label=Y_train)\n",
    "    #D_test = xgb.DMatrix(X_val, label=Y_val)\n",
    "\n",
    "    param = {\n",
    "        'eta': 0.2, \n",
    "        'max_depth': 4,  \n",
    "        'subsample': 0.8,\n",
    "        'colsample_bytree': 0.5,\n",
    "        'objective': 'multi:softprob',  \n",
    "        'num_class': 3} \n",
    "\n",
    "    steps = 1000  # The number of training iterations\n",
    "    model = xgb.train(param, D_train, steps)\n",
    "\n",
    "    X_T = test[test[dc[i]]==1.0]\n",
    "    x_test = X_T.drop(labels = ['Unnamed: 0','Loan_ID','Gender_Female',\n",
    "                                     'Gender_Male','Purpose_Of_Loan_car', 'Purpose_Of_Loan_credit_card',\n",
    "                                     'Purpose_Of_Loan_debt_consolidation', 'Purpose_Of_Loan_educational',\n",
    "                                     'Purpose_Of_Loan_home_improvement', 'Purpose_Of_Loan_house',\n",
    "                                     'Purpose_Of_Loan_major_purchase', 'Purpose_Of_Loan_medical',\n",
    "                                     'Purpose_Of_Loan_moving', 'Purpose_Of_Loan_other',\n",
    "                                     'Purpose_Of_Loan_renewable_energy', 'Purpose_Of_Loan_small_business',\n",
    "                                     'Purpose_Of_Loan_vacation', 'Purpose_Of_Loan_wedding'],axis = 1)\n",
    "    \n",
    "    D_test = xgb.DMatrix(x_test)\n",
    "    \n",
    "    preds = model.predict(D_test)\n",
    "    best_preds = np.asarray([np.argmax(line) for line in preds])\n",
    "    \n",
    "    sub = pd.DataFrame({'Loan_ID': X_T['Loan_ID'], 'Interest_Rate': best_preds})\n",
    "    sub['Loan_ID'] = sub['Loan_ID'].astype(int)\n",
    "    sub.replace({0:1,1:2,2:3},inplace=True)\n",
    "    \n",
    "    frames.append(sub)\n"
   ]
  },
  {
   "cell_type": "code",
   "execution_count": 117,
   "metadata": {},
   "outputs": [],
   "source": [
    "sub4 = pd.concat(frames)"
   ]
  },
  {
   "cell_type": "code",
   "execution_count": 118,
   "metadata": {},
   "outputs": [
    {
     "data": {
      "text/html": [
       "<div>\n",
       "<style scoped>\n",
       "    .dataframe tbody tr th:only-of-type {\n",
       "        vertical-align: middle;\n",
       "    }\n",
       "\n",
       "    .dataframe tbody tr th {\n",
       "        vertical-align: top;\n",
       "    }\n",
       "\n",
       "    .dataframe thead th {\n",
       "        text-align: right;\n",
       "    }\n",
       "</style>\n",
       "<table border=\"1\" class=\"dataframe\">\n",
       "  <thead>\n",
       "    <tr style=\"text-align: right;\">\n",
       "      <th></th>\n",
       "      <th>Loan_ID</th>\n",
       "      <th>Interest_Rate</th>\n",
       "    </tr>\n",
       "  </thead>\n",
       "  <tbody>\n",
       "    <tr>\n",
       "      <th>178</th>\n",
       "      <td>10164488</td>\n",
       "      <td>3</td>\n",
       "    </tr>\n",
       "    <tr>\n",
       "      <th>254</th>\n",
       "      <td>10164564</td>\n",
       "      <td>3</td>\n",
       "    </tr>\n",
       "    <tr>\n",
       "      <th>297</th>\n",
       "      <td>10164607</td>\n",
       "      <td>2</td>\n",
       "    </tr>\n",
       "    <tr>\n",
       "      <th>393</th>\n",
       "      <td>10164703</td>\n",
       "      <td>2</td>\n",
       "    </tr>\n",
       "    <tr>\n",
       "      <th>417</th>\n",
       "      <td>10164727</td>\n",
       "      <td>3</td>\n",
       "    </tr>\n",
       "    <tr>\n",
       "      <th>...</th>\n",
       "      <td>...</td>\n",
       "      <td>...</td>\n",
       "    </tr>\n",
       "    <tr>\n",
       "      <th>108021</th>\n",
       "      <td>10272331</td>\n",
       "      <td>3</td>\n",
       "    </tr>\n",
       "    <tr>\n",
       "      <th>108202</th>\n",
       "      <td>10272512</td>\n",
       "      <td>2</td>\n",
       "    </tr>\n",
       "    <tr>\n",
       "      <th>108429</th>\n",
       "      <td>10272739</td>\n",
       "      <td>3</td>\n",
       "    </tr>\n",
       "    <tr>\n",
       "      <th>108552</th>\n",
       "      <td>10272862</td>\n",
       "      <td>2</td>\n",
       "    </tr>\n",
       "    <tr>\n",
       "      <th>108980</th>\n",
       "      <td>10273290</td>\n",
       "      <td>1</td>\n",
       "    </tr>\n",
       "  </tbody>\n",
       "</table>\n",
       "<p>109541 rows × 2 columns</p>\n",
       "</div>"
      ],
      "text/plain": [
       "         Loan_ID  Interest_Rate\n",
       "178     10164488              3\n",
       "254     10164564              3\n",
       "297     10164607              2\n",
       "393     10164703              2\n",
       "417     10164727              3\n",
       "...          ...            ...\n",
       "108021  10272331              3\n",
       "108202  10272512              2\n",
       "108429  10272739              3\n",
       "108552  10272862              2\n",
       "108980  10273290              1\n",
       "\n",
       "[109541 rows x 2 columns]"
      ]
     },
     "execution_count": 118,
     "metadata": {},
     "output_type": "execute_result"
    }
   ],
   "source": [
    "sub4"
   ]
  },
  {
   "cell_type": "code",
   "execution_count": 119,
   "metadata": {},
   "outputs": [],
   "source": [
    "#sub4.to_csv('submission_4.csv',index=False)"
   ]
  },
  {
   "cell_type": "code",
   "execution_count": null,
   "metadata": {},
   "outputs": [],
   "source": []
  },
  {
   "cell_type": "markdown",
   "metadata": {},
   "source": [
    "### Decision Tree C-wise"
   ]
  },
  {
   "cell_type": "code",
   "execution_count": 69,
   "metadata": {},
   "outputs": [],
   "source": [
    "dc = {0:'Purpose_Of_Loan_car',\n",
    "      1: 'Purpose_Of_Loan_credit_card',\n",
    "      2:'Purpose_Of_Loan_debt_consolidation',\n",
    "      3:'Purpose_Of_Loan_educational',\n",
    "      4:'Purpose_Of_Loan_home_improvement',\n",
    "      5:'Purpose_Of_Loan_house',\n",
    "      6:'Purpose_Of_Loan_major_purchase', \n",
    "      7:'Purpose_Of_Loan_medical',\n",
    "      8:'Purpose_Of_Loan_moving', \n",
    "      9:'Purpose_Of_Loan_other',\n",
    "      10:'Purpose_Of_Loan_renewable_energy', \n",
    "      11:'Purpose_Of_Loan_small_business',\n",
    "      12:'Purpose_Of_Loan_vacation',\n",
    "      13:'Purpose_Of_Loan_wedding'}"
   ]
  },
  {
   "cell_type": "code",
   "execution_count": 32,
   "metadata": {},
   "outputs": [
    {
     "name": "stdout",
     "output_type": "stream",
     "text": [
      "0.4708994708994709\n",
      "0.4666121559007904\n",
      "0.5114315139031926\n",
      "0.6153846153846154\n",
      "0.5242718446601942\n",
      "0.48717948717948717\n",
      "0.4941860465116279\n",
      "0.5064935064935064\n",
      "0.5816326530612245\n",
      "0.5377245508982036\n",
      "0.38461538461538464\n",
      "0.5333333333333333\n",
      "0.5357142857142857\n",
      "0.42168674698795183\n"
     ]
    }
   ],
   "source": [
    "train['Interest_Rate'] = train['Interest_Rate'].astype(int)\n",
    "\n",
    "for i in range(0,14):\n",
    "    segment=dc[i]\n",
    "    x_t = train[train[dc[i]]==1.0]\n",
    "    x_train = x_t.drop(labels = ['Unnamed: 0','Loan_ID','Interest_Rate','Gender_Female',\n",
    "                                     'Gender_Male','Purpose_Of_Loan_car', 'Purpose_Of_Loan_credit_card',\n",
    "                                     'Purpose_Of_Loan_debt_consolidation', 'Purpose_Of_Loan_educational',\n",
    "                                     'Purpose_Of_Loan_home_improvement', 'Purpose_Of_Loan_house',\n",
    "                                     'Purpose_Of_Loan_major_purchase', 'Purpose_Of_Loan_medical',\n",
    "                                     'Purpose_Of_Loan_moving', 'Purpose_Of_Loan_other',\n",
    "                                     'Purpose_Of_Loan_renewable_energy', 'Purpose_Of_Loan_small_business',\n",
    "                                     'Purpose_Of_Loan_vacation', 'Purpose_Of_Loan_wedding'],axis = 1) \n",
    "    y_train = x_t['Interest_Rate']\n",
    "    X_train, X_val, Y_train, Y_val = train_test_split(x_train, y_train, test_size = 0.1, random_state=2)\n",
    "    rf = RandomForestClassifier(n_estimators=40)\n",
    "    rf.fit(X_train,Y_train)\n",
    "    print(rf.score(X_val,Y_val))"
   ]
  },
  {
   "cell_type": "markdown",
   "metadata": {},
   "source": [
    "### DT with minor modification to training data"
   ]
  },
  {
   "cell_type": "code",
   "execution_count": 33,
   "metadata": {},
   "outputs": [],
   "source": [
    "t=pd.read_csv('train_fNxu4vz.csv')\n",
    "train2 = train\n",
    "train2['Annual_Income']= t['Annual_Income']"
   ]
  },
  {
   "cell_type": "code",
   "execution_count": 34,
   "metadata": {},
   "outputs": [],
   "source": [
    "train2[train2['Annual_Income']>1000000]=1000000"
   ]
  },
  {
   "cell_type": "code",
   "execution_count": 35,
   "metadata": {},
   "outputs": [
    {
     "data": {
      "text/plain": [
       "73104.57148929294"
      ]
     },
     "execution_count": 35,
     "metadata": {},
     "output_type": "execute_result"
    }
   ],
   "source": [
    "train2['Annual_Income'].mean()"
   ]
  },
  {
   "cell_type": "code",
   "execution_count": 36,
   "metadata": {},
   "outputs": [
    {
     "data": {
      "text/plain": [
       "63000.0"
      ]
     },
     "execution_count": 36,
     "metadata": {},
     "output_type": "execute_result"
    }
   ],
   "source": [
    "train2['Annual_Income'].median()"
   ]
  },
  {
   "cell_type": "code",
   "execution_count": 37,
   "metadata": {},
   "outputs": [],
   "source": [
    "train2['Annual_Income'] = train2['Annual_Income'].fillna(50000)"
   ]
  },
  {
   "cell_type": "code",
   "execution_count": 38,
   "metadata": {},
   "outputs": [
    {
     "name": "stdout",
     "output_type": "stream",
     "text": [
      "0.48677248677248675\n",
      "0.4641591714363587\n",
      "0.5093717816683832\n",
      "0.6153846153846154\n",
      "0.5156418554476807\n",
      "0.5128205128205128\n",
      "0.4622093023255814\n",
      "0.5584415584415584\n",
      "0.5204081632653061\n",
      "0.5532934131736527\n",
      "0.5384615384615384\n",
      "0.5375\n",
      "0.5119047619047619\n",
      "0.4939759036144578\n"
     ]
    }
   ],
   "source": [
    "for i in range(0,14):\n",
    "    segment=dc[i]\n",
    "    x_t = train2[train2[dc[i]]==1.0]\n",
    "    x_train = x_t.drop(labels = ['Unnamed: 0','Loan_ID','Interest_Rate','Gender_Female',\n",
    "                                     'Gender_Male','Purpose_Of_Loan_car', 'Purpose_Of_Loan_credit_card',\n",
    "                                     'Purpose_Of_Loan_debt_consolidation', 'Purpose_Of_Loan_educational',\n",
    "                                     'Purpose_Of_Loan_home_improvement', 'Purpose_Of_Loan_house',\n",
    "                                     'Purpose_Of_Loan_major_purchase', 'Purpose_Of_Loan_medical',\n",
    "                                     'Purpose_Of_Loan_moving', 'Purpose_Of_Loan_other',\n",
    "                                     'Purpose_Of_Loan_renewable_energy', 'Purpose_Of_Loan_small_business',\n",
    "                                     'Purpose_Of_Loan_vacation', 'Purpose_Of_Loan_wedding'],axis = 1) \n",
    "    y_train = x_t['Interest_Rate']\n",
    "    X_train, X_val, Y_train, Y_val = train_test_split(x_train, y_train, test_size = 0.1, random_state=2)\n",
    "    rf = RandomForestClassifier(n_estimators=40)\n",
    "    rf.fit(X_train,Y_train)\n",
    "    print(rf.score(X_val,Y_val))"
   ]
  },
  {
   "cell_type": "markdown",
   "metadata": {},
   "source": [
    "### RF category-wise"
   ]
  },
  {
   "cell_type": "code",
   "execution_count": 39,
   "metadata": {},
   "outputs": [
    {
     "name": "stdout",
     "output_type": "stream",
     "text": [
      "Purpose_Of_Loan_car\n",
      "Purpose_Of_Loan_credit_card\n",
      "Purpose_Of_Loan_debt_consolidation\n",
      "Purpose_Of_Loan_educational\n",
      "Purpose_Of_Loan_home_improvement\n",
      "Purpose_Of_Loan_house\n",
      "Purpose_Of_Loan_major_purchase\n",
      "Purpose_Of_Loan_medical\n",
      "Purpose_Of_Loan_moving\n",
      "Purpose_Of_Loan_other\n",
      "Purpose_Of_Loan_renewable_energy\n",
      "Purpose_Of_Loan_small_business\n",
      "Purpose_Of_Loan_vacation\n",
      "Purpose_Of_Loan_wedding\n"
     ]
    }
   ],
   "source": [
    "frames=[]\n",
    "train['Interest_Rate'] = train['Interest_Rate'].astype(int)\n",
    "test['Loan_ID'] = test['Loan_ID'].astype(int)\n",
    "\n",
    "for i in range(0,14):\n",
    "    segment=dc[i]\n",
    "    print(segment)\n",
    "    x_t = train2[train2[dc[i]]==1.0]\n",
    "    x_train = x_t.drop(labels = ['Unnamed: 0','Loan_ID','Interest_Rate','Gender_Female',\n",
    "                                     'Gender_Male','Purpose_Of_Loan_car', 'Purpose_Of_Loan_credit_card',\n",
    "                                     'Purpose_Of_Loan_debt_consolidation', 'Purpose_Of_Loan_educational',\n",
    "                                     'Purpose_Of_Loan_home_improvement', 'Purpose_Of_Loan_house',\n",
    "                                     'Purpose_Of_Loan_major_purchase', 'Purpose_Of_Loan_medical',\n",
    "                                     'Purpose_Of_Loan_moving', 'Purpose_Of_Loan_other',\n",
    "                                     'Purpose_Of_Loan_renewable_energy', 'Purpose_Of_Loan_small_business',\n",
    "                                     'Purpose_Of_Loan_vacation', 'Purpose_Of_Loan_wedding'],axis = 1) \n",
    "    y_train = x_t['Interest_Rate']\n",
    "    X_train, X_val, Y_train, Y_val = train_test_split(x_train, y_train, test_size = 0.01, random_state=2)\n",
    "    rf = RandomForestClassifier(n_estimators=40)\n",
    "    rf.fit(X_train,Y_train)\n",
    "    \n",
    "    \n",
    "    X_T = test[test[dc[i]]==1.0]\n",
    "    x_test = X_T.drop(labels = ['Unnamed: 0','Loan_ID','Gender_Female',\n",
    "                                     'Gender_Male','Purpose_Of_Loan_car', 'Purpose_Of_Loan_credit_card',\n",
    "                                     'Purpose_Of_Loan_debt_consolidation', 'Purpose_Of_Loan_educational',\n",
    "                                     'Purpose_Of_Loan_home_improvement', 'Purpose_Of_Loan_house',\n",
    "                                     'Purpose_Of_Loan_major_purchase', 'Purpose_Of_Loan_medical',\n",
    "                                     'Purpose_Of_Loan_moving', 'Purpose_Of_Loan_other',\n",
    "                                     'Purpose_Of_Loan_renewable_energy', 'Purpose_Of_Loan_small_business',\n",
    "                                     'Purpose_Of_Loan_vacation', 'Purpose_Of_Loan_wedding'],axis = 1)\n",
    "    pred= rf.predict(x_test)\n",
    "    s = pd.DataFrame({'Loan_ID': X_T['Loan_ID'], 'Interest_Rate': pred})\n",
    "    frames.append(s)"
   ]
  },
  {
   "cell_type": "code",
   "execution_count": 40,
   "metadata": {},
   "outputs": [],
   "source": [
    "sub2 = pd.concat(frames)"
   ]
  },
  {
   "cell_type": "code",
   "execution_count": 41,
   "metadata": {},
   "outputs": [
    {
     "data": {
      "text/html": [
       "<div>\n",
       "<style scoped>\n",
       "    .dataframe tbody tr th:only-of-type {\n",
       "        vertical-align: middle;\n",
       "    }\n",
       "\n",
       "    .dataframe tbody tr th {\n",
       "        vertical-align: top;\n",
       "    }\n",
       "\n",
       "    .dataframe thead th {\n",
       "        text-align: right;\n",
       "    }\n",
       "</style>\n",
       "<table border=\"1\" class=\"dataframe\">\n",
       "  <thead>\n",
       "    <tr style=\"text-align: right;\">\n",
       "      <th></th>\n",
       "      <th>Loan_ID</th>\n",
       "      <th>Interest_Rate</th>\n",
       "    </tr>\n",
       "  </thead>\n",
       "  <tbody>\n",
       "    <tr>\n",
       "      <th>178</th>\n",
       "      <td>10164488</td>\n",
       "      <td>3</td>\n",
       "    </tr>\n",
       "    <tr>\n",
       "      <th>254</th>\n",
       "      <td>10164564</td>\n",
       "      <td>1</td>\n",
       "    </tr>\n",
       "    <tr>\n",
       "      <th>297</th>\n",
       "      <td>10164607</td>\n",
       "      <td>2</td>\n",
       "    </tr>\n",
       "    <tr>\n",
       "      <th>393</th>\n",
       "      <td>10164703</td>\n",
       "      <td>2</td>\n",
       "    </tr>\n",
       "    <tr>\n",
       "      <th>417</th>\n",
       "      <td>10164727</td>\n",
       "      <td>2</td>\n",
       "    </tr>\n",
       "    <tr>\n",
       "      <th>...</th>\n",
       "      <td>...</td>\n",
       "      <td>...</td>\n",
       "    </tr>\n",
       "    <tr>\n",
       "      <th>108021</th>\n",
       "      <td>10272331</td>\n",
       "      <td>2</td>\n",
       "    </tr>\n",
       "    <tr>\n",
       "      <th>108202</th>\n",
       "      <td>10272512</td>\n",
       "      <td>2</td>\n",
       "    </tr>\n",
       "    <tr>\n",
       "      <th>108429</th>\n",
       "      <td>10272739</td>\n",
       "      <td>3</td>\n",
       "    </tr>\n",
       "    <tr>\n",
       "      <th>108552</th>\n",
       "      <td>10272862</td>\n",
       "      <td>2</td>\n",
       "    </tr>\n",
       "    <tr>\n",
       "      <th>108980</th>\n",
       "      <td>10273290</td>\n",
       "      <td>2</td>\n",
       "    </tr>\n",
       "  </tbody>\n",
       "</table>\n",
       "<p>109541 rows × 2 columns</p>\n",
       "</div>"
      ],
      "text/plain": [
       "         Loan_ID  Interest_Rate\n",
       "178     10164488              3\n",
       "254     10164564              1\n",
       "297     10164607              2\n",
       "393     10164703              2\n",
       "417     10164727              2\n",
       "...          ...            ...\n",
       "108021  10272331              2\n",
       "108202  10272512              2\n",
       "108429  10272739              3\n",
       "108552  10272862              2\n",
       "108980  10273290              2\n",
       "\n",
       "[109541 rows x 2 columns]"
      ]
     },
     "execution_count": 41,
     "metadata": {},
     "output_type": "execute_result"
    }
   ],
   "source": [
    "sub2"
   ]
  },
  {
   "cell_type": "code",
   "execution_count": 42,
   "metadata": {},
   "outputs": [
    {
     "data": {
      "text/plain": [
       "Index(['Loan_ID', 'Interest_Rate'], dtype='object')"
      ]
     },
     "execution_count": 42,
     "metadata": {},
     "output_type": "execute_result"
    }
   ],
   "source": [
    "sub2.columns"
   ]
  },
  {
   "cell_type": "code",
   "execution_count": 43,
   "metadata": {},
   "outputs": [],
   "source": [
    "#sub2.to_csv('submission_2.csv',index=False)"
   ]
  },
  {
   "cell_type": "code",
   "execution_count": 45,
   "metadata": {},
   "outputs": [],
   "source": [
    "#test[~test.isin(sub2)].dropna()"
   ]
  },
  {
   "cell_type": "code",
   "execution_count": null,
   "metadata": {},
   "outputs": [],
   "source": []
  }
 ],
 "metadata": {
  "kernelspec": {
   "display_name": "Python 3",
   "language": "python",
   "name": "python3"
  },
  "language_info": {
   "codemirror_mode": {
    "name": "ipython",
    "version": 3
   },
   "file_extension": ".py",
   "mimetype": "text/x-python",
   "name": "python",
   "nbconvert_exporter": "python",
   "pygments_lexer": "ipython3",
   "version": "3.7.7"
  }
 },
 "nbformat": 4,
 "nbformat_minor": 4
}
